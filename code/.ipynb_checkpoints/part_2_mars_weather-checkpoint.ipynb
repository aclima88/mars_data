{
 "cells": [
  {
   "cell_type": "markdown",
   "metadata": {},
   "source": [
    "# Module 11 Challenge\n",
    "## Deliverable 2: Scrape and Analyze Mars Weather Data"
   ]
  },
  {
   "cell_type": "code",
   "execution_count": 355,
   "metadata": {
    "tags": []
   },
   "outputs": [],
   "source": [
    "# Import relevant libraries\n",
    "from splinter import Browser\n",
    "from bs4 import BeautifulSoup\n",
    "import matplotlib.pyplot as plt\n",
    "import pandas as pd\n",
    "import dataframe_image as dfi"
   ]
  },
  {
   "cell_type": "code",
   "execution_count": 356,
   "metadata": {
    "tags": []
   },
   "outputs": [],
   "source": [
    "browser = Browser('chrome')"
   ]
  },
  {
   "cell_type": "markdown",
   "metadata": {},
   "source": [
    "### Step 1: Visit the Website\n",
    "\n",
    "Use automated browsing to visit the [Mars Temperature Data Site](https://static.bc-edx.com/data/web/mars_facts/temperature.html). Inspect the page to identify which elements to scrape.\n",
    "\n",
    "   > **Hint** To identify which elements to scrape, you might want to inspect the page by using Chrome DevTools to discover whether the table contains usable classes.\n"
   ]
  },
  {
   "cell_type": "code",
   "execution_count": 357,
   "metadata": {
    "tags": []
   },
   "outputs": [],
   "source": [
    "# Visit the website\n",
    "# https://static.bc-edx.com/data/web/mars_facts/temperature.html\n",
    "url = \"https://static.bc-edx.com/data/web/mars_facts/temperature.html\"\n",
    "browser.visit(url)\n",
    "\n",
    "# df = pd.read_html('https://static.bc-edx.com/data/web/mars_facts/temperature.html')"
   ]
  },
  {
   "cell_type": "markdown",
   "metadata": {},
   "source": [
    "### Step 2: Scrape the Table\n",
    "\n",
    "Create a Beautiful Soup object and use it to scrape the data in the HTML table.\n",
    "\n",
    "Note that this can also be achieved by using the Pandas `read_html` function. However, use Beautiful Soup here to continue sharpening your web scraping skills."
   ]
  },
  {
   "cell_type": "code",
   "execution_count": 360,
   "metadata": {
    "tags": []
   },
   "outputs": [],
   "source": [
    "# Create a Beautiful Soup Object\n",
    "html = browser.html\n",
    "soup = BeautifulSoup(html, 'html.parser')\n",
    "\n",
    "# # Select the first table\n",
    "# mars_weather_info_df = df[0]"
   ]
  },
  {
   "cell_type": "code",
   "execution_count": 361,
   "metadata": {
    "tags": []
   },
   "outputs": [],
   "source": [
    "# Extract all rows of data\n",
    "table = soup.find('table', class_= 'table')\n",
    "# print(table)"
   ]
  },
  {
   "cell_type": "markdown",
   "metadata": {},
   "source": [
    "### Step 3: Store the Data\n",
    "\n",
    "Assemble the scraped data into a Pandas DataFrame. The columns should have the same headings as the table on the website. Here’s an explanation of the column headings:\n",
    "\n",
    "* `id`: the identification number of a single transmission from the Curiosity rover\n",
    "* `terrestrial_date`: the date on Earth\n",
    "* `sol`: the number of elapsed sols (Martian days) since Curiosity landed on Mars\n",
    "* `ls`: the solar longitude\n",
    "* `month`: the Martian month\n",
    "* `min_temp`: the minimum temperature, in Celsius, of a single Martian day (sol)\n",
    "* `pressure`: The atmospheric pressure at Curiosity's location"
   ]
  },
  {
   "cell_type": "code",
   "execution_count": 362,
   "metadata": {},
   "outputs": [],
   "source": [
    "# Create an empty list and store all of the table data into that list\n",
    "mars_weather_data = []\n",
    "\n",
    "# Loop through the scraped data to create a list of rows\n",
    "# # Rename the table columns\n",
    "# mars_weather_info_df.columns=['ID', 'Terrestrial Date', 'Sol', 'LS', 'Month', 'Minimum Temperature', 'Pressure']\n",
    "# mars_weather_info_df\n",
    "\n",
    "# Loop through each row in the table and find the data to be stored into the mars_weather_data list\n",
    "# Iterate through rows in the table (excluding the header)\n",
    "for row in table.find_all('tr')[1:]:\n",
    "    data = row.find_all('td')\n",
    "    row_data = [cell.text.strip() for cell in data]\n",
    "    mars_weather_data.append(row_data)\n",
    "    \n",
    "# # Print the scraped data\n",
    "# for row in mars_weather_data:\n",
    "#     print(row)"
   ]
  },
  {
   "cell_type": "code",
   "execution_count": 363,
   "metadata": {},
   "outputs": [],
   "source": [
    "# Create a Pandas DataFrame by using the list of rows and a list of the column names\n",
    "# Rename the header columns\n",
    "mars_weather_data_df = pd.DataFrame(mars_weather_data)\n",
    "headers = ['ID', 'Terrestrial Date', 'Sol', 'LS', 'Month', 'Minimum Temperature', 'Pressure']\n",
    "\n",
    "mars_weather_data_df.columns = headers"
   ]
  },
  {
   "cell_type": "code",
   "execution_count": 364,
   "metadata": {},
   "outputs": [
    {
     "data": {
      "text/html": [
       "<div>\n",
       "<style scoped>\n",
       "    .dataframe tbody tr th:only-of-type {\n",
       "        vertical-align: middle;\n",
       "    }\n",
       "\n",
       "    .dataframe tbody tr th {\n",
       "        vertical-align: top;\n",
       "    }\n",
       "\n",
       "    .dataframe thead th {\n",
       "        text-align: right;\n",
       "    }\n",
       "</style>\n",
       "<table border=\"1\" class=\"dataframe\">\n",
       "  <thead>\n",
       "    <tr style=\"text-align: right;\">\n",
       "      <th></th>\n",
       "      <th>Terrestrial Date</th>\n",
       "      <th>Sol</th>\n",
       "      <th>LS</th>\n",
       "      <th>Month</th>\n",
       "      <th>Minimum Temperature</th>\n",
       "      <th>Pressure</th>\n",
       "    </tr>\n",
       "    <tr>\n",
       "      <th>ID</th>\n",
       "      <th></th>\n",
       "      <th></th>\n",
       "      <th></th>\n",
       "      <th></th>\n",
       "      <th></th>\n",
       "      <th></th>\n",
       "    </tr>\n",
       "  </thead>\n",
       "  <tbody>\n",
       "    <tr>\n",
       "      <th>2</th>\n",
       "      <td>2012-08-16</td>\n",
       "      <td>10</td>\n",
       "      <td>155</td>\n",
       "      <td>6</td>\n",
       "      <td>-75.0</td>\n",
       "      <td>739.0</td>\n",
       "    </tr>\n",
       "    <tr>\n",
       "      <th>13</th>\n",
       "      <td>2012-08-17</td>\n",
       "      <td>11</td>\n",
       "      <td>156</td>\n",
       "      <td>6</td>\n",
       "      <td>-76.0</td>\n",
       "      <td>740.0</td>\n",
       "    </tr>\n",
       "    <tr>\n",
       "      <th>24</th>\n",
       "      <td>2012-08-18</td>\n",
       "      <td>12</td>\n",
       "      <td>156</td>\n",
       "      <td>6</td>\n",
       "      <td>-76.0</td>\n",
       "      <td>741.0</td>\n",
       "    </tr>\n",
       "    <tr>\n",
       "      <th>35</th>\n",
       "      <td>2012-08-19</td>\n",
       "      <td>13</td>\n",
       "      <td>157</td>\n",
       "      <td>6</td>\n",
       "      <td>-74.0</td>\n",
       "      <td>732.0</td>\n",
       "    </tr>\n",
       "    <tr>\n",
       "      <th>46</th>\n",
       "      <td>2012-08-20</td>\n",
       "      <td>14</td>\n",
       "      <td>157</td>\n",
       "      <td>6</td>\n",
       "      <td>-74.0</td>\n",
       "      <td>740.0</td>\n",
       "    </tr>\n",
       "    <tr>\n",
       "      <th>...</th>\n",
       "      <td>...</td>\n",
       "      <td>...</td>\n",
       "      <td>...</td>\n",
       "      <td>...</td>\n",
       "      <td>...</td>\n",
       "      <td>...</td>\n",
       "    </tr>\n",
       "    <tr>\n",
       "      <th>1889</th>\n",
       "      <td>2018-02-23</td>\n",
       "      <td>1973</td>\n",
       "      <td>133</td>\n",
       "      <td>5</td>\n",
       "      <td>-78.0</td>\n",
       "      <td>730.0</td>\n",
       "    </tr>\n",
       "    <tr>\n",
       "      <th>1892</th>\n",
       "      <td>2018-02-24</td>\n",
       "      <td>1974</td>\n",
       "      <td>134</td>\n",
       "      <td>5</td>\n",
       "      <td>-77.0</td>\n",
       "      <td>729.0</td>\n",
       "    </tr>\n",
       "    <tr>\n",
       "      <th>1894</th>\n",
       "      <td>2018-02-25</td>\n",
       "      <td>1975</td>\n",
       "      <td>134</td>\n",
       "      <td>5</td>\n",
       "      <td>-76.0</td>\n",
       "      <td>729.0</td>\n",
       "    </tr>\n",
       "    <tr>\n",
       "      <th>1893</th>\n",
       "      <td>2018-02-26</td>\n",
       "      <td>1976</td>\n",
       "      <td>135</td>\n",
       "      <td>5</td>\n",
       "      <td>-77.0</td>\n",
       "      <td>728.0</td>\n",
       "    </tr>\n",
       "    <tr>\n",
       "      <th>1895</th>\n",
       "      <td>2018-02-27</td>\n",
       "      <td>1977</td>\n",
       "      <td>135</td>\n",
       "      <td>5</td>\n",
       "      <td>-77.0</td>\n",
       "      <td>727.0</td>\n",
       "    </tr>\n",
       "  </tbody>\n",
       "</table>\n",
       "<p>1867 rows × 6 columns</p>\n",
       "</div>"
      ],
      "text/plain": [
       "     Terrestrial Date   Sol   LS Month Minimum Temperature Pressure\n",
       "ID                                                                 \n",
       "2          2012-08-16    10  155     6               -75.0    739.0\n",
       "13         2012-08-17    11  156     6               -76.0    740.0\n",
       "24         2012-08-18    12  156     6               -76.0    741.0\n",
       "35         2012-08-19    13  157     6               -74.0    732.0\n",
       "46         2012-08-20    14  157     6               -74.0    740.0\n",
       "...               ...   ...  ...   ...                 ...      ...\n",
       "1889       2018-02-23  1973  133     5               -78.0    730.0\n",
       "1892       2018-02-24  1974  134     5               -77.0    729.0\n",
       "1894       2018-02-25  1975  134     5               -76.0    729.0\n",
       "1893       2018-02-26  1976  135     5               -77.0    728.0\n",
       "1895       2018-02-27  1977  135     5               -77.0    727.0\n",
       "\n",
       "[1867 rows x 6 columns]"
      ]
     },
     "execution_count": 364,
     "metadata": {},
     "output_type": "execute_result"
    }
   ],
   "source": [
    "# Confirm DataFrame was created successfully\n",
    "mars_weather_data_df.set_index('ID')"
   ]
  },
  {
   "cell_type": "markdown",
   "metadata": {},
   "source": [
    "### Step 4: Prepare Data for Analysis\n",
    "\n",
    "Examine the data types that are currently associated with each column. If necessary, cast (or convert) the data to the appropriate `datetime`, `int`, or `float` data types.\n",
    "\n",
    "  > **Hint** You can use the Pandas `astype` and `to_datetime` methods to accomplish this task.\n"
   ]
  },
  {
   "cell_type": "code",
   "execution_count": 365,
   "metadata": {},
   "outputs": [
    {
     "name": "stdout",
     "output_type": "stream",
     "text": [
      "<class 'pandas.core.frame.DataFrame'>\n",
      "RangeIndex: 1867 entries, 0 to 1866\n",
      "Data columns (total 7 columns):\n",
      " #   Column               Non-Null Count  Dtype \n",
      "---  ------               --------------  ----- \n",
      " 0   ID                   1867 non-null   object\n",
      " 1   Terrestrial Date     1867 non-null   object\n",
      " 2   Sol                  1867 non-null   object\n",
      " 3   LS                   1867 non-null   object\n",
      " 4   Month                1867 non-null   object\n",
      " 5   Minimum Temperature  1867 non-null   object\n",
      " 6   Pressure             1867 non-null   object\n",
      "dtypes: object(7)\n",
      "memory usage: 102.2+ KB\n"
     ]
    }
   ],
   "source": [
    "# Examine data type of each column\n",
    "mars_weather_data_df.info()"
   ]
  },
  {
   "cell_type": "code",
   "execution_count": 366,
   "metadata": {},
   "outputs": [],
   "source": [
    "# Change data types for data analysis\n",
    "mars_weather_data_df['ID'] = mars_weather_data_df['ID'].astype(int)\n",
    "mars_weather_data_df['Terrestrial Date'] = pd.to_datetime(mars_weather_data_df['Terrestrial Date'])\n",
    "mars_weather_data_df['Sol'] = mars_weather_data_df['Sol'].astype(int)\n",
    "mars_weather_data_df['LS'] = mars_weather_data_df['LS'].astype(int)\n",
    "mars_weather_data_df['Month'] = mars_weather_data_df['Month'].astype(int)\n",
    "mars_weather_data_df['Minimum Temperature'] = mars_weather_data_df['Minimum Temperature'].astype(float)\n",
    "mars_weather_data_df['Pressure'] = mars_weather_data_df['Pressure'].astype(float)"
   ]
  },
  {
   "cell_type": "code",
   "execution_count": 367,
   "metadata": {},
   "outputs": [
    {
     "name": "stdout",
     "output_type": "stream",
     "text": [
      "<class 'pandas.core.frame.DataFrame'>\n",
      "RangeIndex: 1867 entries, 0 to 1866\n",
      "Data columns (total 7 columns):\n",
      " #   Column               Non-Null Count  Dtype         \n",
      "---  ------               --------------  -----         \n",
      " 0   ID                   1867 non-null   int64         \n",
      " 1   Terrestrial Date     1867 non-null   datetime64[ns]\n",
      " 2   Sol                  1867 non-null   int64         \n",
      " 3   LS                   1867 non-null   int64         \n",
      " 4   Month                1867 non-null   int64         \n",
      " 5   Minimum Temperature  1867 non-null   float64       \n",
      " 6   Pressure             1867 non-null   float64       \n",
      "dtypes: datetime64[ns](1), float64(2), int64(4)\n",
      "memory usage: 102.2 KB\n"
     ]
    }
   ],
   "source": [
    "# Confirm type changes were successful by examining data types again\n",
    "mars_weather_data_df.info()"
   ]
  },
  {
   "cell_type": "markdown",
   "metadata": {},
   "source": [
    "### Step 5: Analyze the Data\n",
    "\n",
    "Analyze your dataset by using Pandas functions to answer the following questions:\n",
    "\n",
    "1. How many months exist on Mars?\n",
    "2. How many Martian (and not Earth) days worth of data exist in the scraped dataset?\n",
    "3. What are the coldest and the warmest months on Mars (at the location of Curiosity)? To answer this question:\n",
    "    * Find the average the minimum daily temperature for all of the months.\n",
    "    * Plot the results as a bar chart.\n",
    "4. Which months have the lowest and the highest atmospheric pressure on Mars? To answer this question:\n",
    "    * Find the average the daily atmospheric pressure of all the months.\n",
    "    * Plot the results as a bar chart.\n",
    "5. About how many terrestrial (Earth) days exist in a Martian year? To answer this question:\n",
    "    * Consider how many days elapse on Earth in the time that Mars circles the Sun once.\n",
    "    * Visually estimate the result by plotting the daily minimum temperature.\n"
   ]
  },
  {
   "cell_type": "code",
   "execution_count": 375,
   "metadata": {},
   "outputs": [
    {
     "name": "stdout",
     "output_type": "stream",
     "text": [
      "---------------------------------------------------\n",
      "Total Number of Months on Mars: Month\n",
      "1     174\n",
      "2     178\n",
      "3     192\n",
      "4     194\n",
      "5     149\n",
      "6     147\n",
      "7     142\n",
      "8     141\n",
      "9     134\n",
      "10    112\n",
      "11    138\n",
      "12    166\n",
      "Name: Month, dtype: int64\n",
      "---------------------------------------------------\n"
     ]
    }
   ],
   "source": [
    "# 1. How many months are there on Mars?\n",
    "# grouped_months = mars_weather_data_df.groupby('Month')\n",
    "total_months_df = mars_weather_data_df.groupby('Month').Month.count()\n",
    "# total_months_sum_df = total_months_df.max()\n",
    "\n",
    "print(\"---------------------------------------------------\")\n",
    "print(f\"Total Number of Months on Mars: {total_months_df}\")\n",
    "print(\"---------------------------------------------------\")"
   ]
  },
  {
   "cell_type": "code",
   "execution_count": 304,
   "metadata": {},
   "outputs": [
    {
     "name": "stdout",
     "output_type": "stream",
     "text": [
      "---------------------------------------------------\n",
      "Total number of days worth of data: 1867\n",
      "---------------------------------------------------\n"
     ]
    }
   ],
   "source": [
    "# 2. How many Martian days' worth of data are there?\n",
    "martian_days_df = mars_weather_data_df['Sol'].count()\n",
    "\n",
    "print(\"---------------------------------------------------\")\n",
    "print(f\"Total number of days worth of data: {martian_days_df}\")\n"
   ]
  },
  {
   "cell_type": "code",
   "execution_count": 305,
   "metadata": {},
   "outputs": [
    {
     "name": "stdout",
     "output_type": "stream",
     "text": [
      "The average minimum temperature per month is:\n",
      "______________________________________________\n",
      "Month 1    -77.160920\n",
      "Month 2    -79.932584\n",
      "Month 3    -83.307292\n",
      "Month 4    -82.747423\n",
      "Month 5    -79.308725\n",
      "Month 6    -75.299320\n",
      "Month 7    -72.281690\n",
      "Month 8    -68.382979\n",
      "Month 9    -69.171642\n",
      "Month 10   -71.982143\n",
      "Month 11   -71.985507\n",
      "Month 12   -74.451807\n",
      "Name: Minimum Temperature, dtype: float64\n",
      "______________________________________________\n"
     ]
    }
   ],
   "source": [
    "# 3. What is the average low temperature by month?\n",
    "avg_min_temp_per_month_df = mars_weather_data_df.groupby('Month')['Minimum Temperature'].mean()\n",
    "avg_min_temp_per_month_df.index = ['Month 1', 'Month 2','Month 3','Month 4','Month 5','Month 6','Month 7','Month 8','Month 9','Month 10','Month 11','Month 12']\n",
    "\n",
    "print(\"The average minimum temperature per month is:\")\n",
    "print(\"______________________________________________\")\n",
    "print(avg_min_temp_per_month_df)\n",
    "print(\"______________________________________________\")"
   ]
  },
  {
   "cell_type": "code",
   "execution_count": 376,
   "metadata": {},
   "outputs": [
    {
     "data": {
      "image/png": "[encoded data removed]",
      "text/plain": [
       "<Figure size 1200x600 with 1 Axes>"
      ]
     },
     "metadata": {},
     "output_type": "display_data"
    }
   ],
   "source": [
    "# Plot the average temperature by month\n",
    "fig1 = plt.figure(figsize=(12, 6));\n",
    "avg_min_temp = avg_min_temp_per_month_df.plot.bar(x='Month', y='Average Minimum Temperature', rot=90)\n",
    "plt.xlabel('Month')\n",
    "plt.ylabel('Average Minimum Temperature')\n",
    "plt.title('Average Temperature Per Month')\n",
    "plt.tight_layout()\n",
    "\n",
    "avg_min_temp.set_ylim(0, -100)\n",
    "\n",
    "# Add data labels on top of the bars\n",
    "for p in avg_min_temp.patches:\n",
    "    avg_min_temp.annotate(f'{p.get_height():.2f}', (p.get_x() + p.get_width() / 2., p.get_height()),\n",
    "                ha='center', va='center', fontsize=10, color='navy', xytext=(0, -7),\n",
    "                textcoords='offset points')\n",
    "\n",
    "# Invert the y-axis\n",
    "plt.gca().invert_yaxis()  # Invert the y-axis\n",
    "\n",
    "fig1.savefig(\"avg_temp_per_month\")"
   ]
  },
  {
   "cell_type": "code",
   "execution_count": 409,
   "metadata": {},
   "outputs": [
    {
     "name": "stdout",
     "output_type": "stream",
     "text": [
      "---------------------------------------------------\n",
      "Coldest month: Month Month 3, with a temperature of -83.30729166666667°C\n",
      "---------------------------------------------------\n",
      "Hottest month: Month Month 8, with a temperature of -68.38297872340425°C\n",
      "---------------------------------------------------\n"
     ]
    },
    {
     "data": {
      "image/png": "[encoded data removed]",
      "text/plain": [
       "<Figure size 1200x600 with 1 Axes>"
      ]
     },
     "metadata": {},
     "output_type": "display_data"
    }
   ],
   "source": [
    "# Identify the coldest and hottest months in Curiosity's location\n",
    "coldest_months_temp = avg_min_temp_per_month_df.min()\n",
    "hottest_months_temp = avg_min_temp_per_month_df.max()\n",
    "\n",
    "\n",
    "# Find the index of the coldest month\n",
    "coldest_month = avg_min_temp_per_month_df.idxmin()\n",
    "hottest_month = avg_min_temp_per_month_df.idxmax()\n",
    "# # Extract the corresponding data for the coldest month\n",
    "# coldest_month = mars_weather_data_df.loc[coldest_month_idx, 'Month']\n",
    "# coldest_temp = mars_weather_data_df.loc[coldest_month_idx, 'Minimum Temperature']\n",
    "\n",
    "# # Find the index of the hottest month\n",
    "# hottest_month_idx = mars_weather_data_df['Minimum Temperature'].idxmax()\n",
    "# # Extract the corresponding data for the hottest month\n",
    "# hottest_month = mars_weather_data_df.loc[hottest_month_idx, 'Month']\n",
    "# hottest_temp = mars_weather_data_df.loc[hottest_month_idx, 'Minimum Temperature']\n",
    "\n",
    "\n",
    "print(\"---------------------------------------------------\")\n",
    "print(f\"Coldest month: Month {coldest_month}, with a temperature of {coldest_months_temp}°C\")\n",
    "print(\"---------------------------------------------------\")\n",
    "print(f\"Hottest month: Month {hottest_month}, with a temperature of {hottest_months_temp}°C\")\n",
    "print(\"---------------------------------------------------\")\n",
    "\n",
    "# Plot the chart\n",
    "fig1 = plt.figure(figsize=(12, 6))\n",
    "avg_min_temp_per_month_df_sorted = avg_min_temp_per_month_df.sort_values(ascending=True)\n",
    "avg_min_temp = avg_min_temp_per_month_df_sorted.plot(kind='bar', x='Month', y='Average Minimum Temperature', rot=90)\n",
    "plt.xlabel('Month')\n",
    "plt.ylabel('Average Minimum Temperature')\n",
    "plt.title('Average Temperature Per Month')\n",
    "plt.tight_layout()\n",
    "\n",
    "avg_min_temp.set_ylim(0, -100)\n",
    "\n",
    "# Add data labels on top of the bars\n",
    "for p in avg_min_temp.patches:\n",
    "    avg_min_temp.annotate(f'{p.get_height():.2f}', (p.get_x() + p.get_width() / 2., p.get_height()),\n",
    "                ha='center', va='center', fontsize=10, color='navy', xytext=(0, -7),\n",
    "                textcoords='offset points')\n",
    "\n",
    "# Invert the y-axis\n",
    "plt.gca().invert_yaxis()  # Invert the y-axis\n",
    "\n",
    "fig1.savefig(\"coldest_hottest_month\")"
   ]
  },
  {
   "cell_type": "code",
   "execution_count": 402,
   "metadata": {},
   "outputs": [
    {
     "name": "stdout",
     "output_type": "stream",
     "text": [
      "The average pressure per month is:\n",
      "______________________________________________\n",
      "Month 1     862.488506\n",
      "Month 2     889.455056\n",
      "Month 3     877.322917\n",
      "Month 4     806.329897\n",
      "Month 5     748.557047\n",
      "Month 6     745.054422\n",
      "Month 7     795.105634\n",
      "Month 8     873.829787\n",
      "Month 9     913.305970\n",
      "Month 10    887.312500\n",
      "Month 11    857.014493\n",
      "Month 12    842.156627\n",
      "Name: Pressure, dtype: float64\n",
      "______________________________________________\n"
     ]
    }
   ],
   "source": [
    "# 4. Average pressure by Martian month\n",
    "avg_pres_per_month_df = mars_weather_data_df.groupby('Month')['Pressure'].mean()\n",
    "avg_pres_per_month_df.index = ['Month 1', 'Month 2','Month 3','Month 4','Month 5','Month 6','Month 7','Month 8','Month 9','Month 10','Month 11','Month 12']\n",
    "\n",
    "print(\"The average pressure per month is:\")\n",
    "print(\"______________________________________________\")\n",
    "print(avg_pres_per_month_df)\n",
    "print(\"______________________________________________\")"
   ]
  },
  {
   "cell_type": "code",
   "execution_count": 379,
   "metadata": {},
   "outputs": [
    {
     "data": {
      "image/png": "[encoded data removed]",
      "text/plain": [
       "<Figure size 1200x600 with 1 Axes>"
      ]
     },
     "metadata": {},
     "output_type": "display_data"
    }
   ],
   "source": [
    "# Plot the average pressure by month\n",
    "fig2 = plt.figure(figsize=(12, 6));\n",
    "avg_pres = avg_pres_per_month_df.plot.bar(x='Month', y='Pressure', rot=90)\n",
    "plt.xlabel('Month')\n",
    "plt.ylabel('Average Pressure')\n",
    "plt.title('Average Pressure Per Month')\n",
    "plt.tight_layout()\n",
    "\n",
    "avg_pres.set_ylim(0, 1000)\n",
    "\n",
    "# Add data labels on top of the bars\n",
    "for p in avg_pres.patches:\n",
    "    avg_pres.annotate(f'{p.get_height():.2f}', (p.get_x() + p.get_width() / 2., p.get_height()),\n",
    "                ha='center', va='center', fontsize=10, color='navy', xytext=(0, 7),\n",
    "                textcoords='offset points')\n",
    "\n",
    "fig2.savefig('avg_pres_per_month.png')"
   ]
  },
  {
   "cell_type": "code",
   "execution_count": 380,
   "metadata": {},
   "outputs": [
    {
     "name": "stdout",
     "output_type": "stream",
     "text": [
      "Number of Earth days in 1 Martian year: 705.549\n"
     ]
    }
   ],
   "source": [
    "# 5. How many terrestrial (earth) days are there in a Martian year?\n",
    "\n",
    "# Number of Martian days in a Martian year\n",
    "martian_days_per_year = 687\n",
    "\n",
    "# Earth days per Martian day\n",
    "earth_days_per_martian_day = 1.027\n",
    "\n",
    "# Calculate the number of Earth days in 1 Martian year\n",
    "earth_days_in_martian_year = martian_days_per_year * earth_days_per_martian_day\n",
    "\n",
    "# Print the result\n",
    "print(\"Number of Earth days in 1 Martian year:\", earth_days_in_martian_year)"
   ]
  },
  {
   "cell_type": "markdown",
   "metadata": {},
   "source": [
    "On average, the third month has the coldest minimum temperature on Mars, and the eighth month is the warmest. But it is always very cold there in human terms!\n",
    "\n"
   ]
  },
  {
   "cell_type": "markdown",
   "metadata": {},
   "source": [
    "Atmospheric pressure is, on average, lowest in the sixth month and highest in the ninth."
   ]
  },
  {
   "cell_type": "markdown",
   "metadata": {},
   "source": [
    "The distance from peak to peak is roughly 1425-750, or 675 days. A year on Mars appears to be about 675 days from the plot. Internet search confirms that a Mars year is equivalent to 687 earth days."
   ]
  },
  {
   "cell_type": "markdown",
   "metadata": {},
   "source": [
    "### Step 6: Save the Data\n",
    "\n",
    "Export the DataFrame to a CSV file."
   ]
  },
  {
   "cell_type": "code",
   "execution_count": 288,
   "metadata": {},
   "outputs": [],
   "source": [
    "# Write the data to a CSV\n",
    "mars_weather_data_df.to_csv('mars_weather_data.csv', index=False, encoding='utf-8')"
   ]
  },
  {
   "cell_type": "code",
   "execution_count": 271,
   "metadata": {},
   "outputs": [],
   "source": [
    "browser.quit()"
   ]
  },
  {
   "cell_type": "code",
   "execution_count": null,
   "metadata": {},
   "outputs": [],
   "source": []
  }
 ],
 "metadata": {
  "kernelspec": {
   "display_name": "Python 3 (ipykernel)",
   "language": "python",
   "name": "python3"
  },
  "language_info": {
   "codemirror_mode": {
    "name": "ipython",
    "version": 3
   },
   "file_extension": ".py",
   "mimetype": "text/x-python",
   "name": "python",
   "nbconvert_exporter": "python",
   "pygments_lexer": "ipython3",
   "version": "3.10.11"
  },
  "vscode": {
   "interpreter": {
    "hash": "31f2aee4e71d21fbe5cf8b01ff0e069b9275f58929596ceb00d14d90e3e16cd6"
   }
  }
 },
 "nbformat": 4,
 "nbformat_minor": 4
}
